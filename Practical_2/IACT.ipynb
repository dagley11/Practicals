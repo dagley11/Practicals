{
 "cells": [
  {
   "cell_type": "code",
   "execution_count": 15,
   "metadata": {
    "collapsed": false
   },
   "outputs": [],
   "source": [
    "import os\n",
    "from collections import Counter\n",
    "try:\n",
    "    import xml.etree.cElementTree as ET\n",
    "except ImportError:\n",
    "    import xml.etree.ElementTree as ET\n",
    "import numpy as np\n",
    "from scipy import sparse\n",
    "from sklearn.naive_bayes import MultinomialNB\n",
    "import util\n",
    "from random import shuffle\n",
    "from sklearn.feature_extraction.text import TfidfVectorizer\n",
    "\n",
    "def create_data_matrix(direc=\"train\"):\n",
    "    X = None\n",
    "    classes = []\n",
    "    ids = [] \n",
    "    i = -1\n",
    "    for datafile in os.listdir(direc):\n",
    "        if datafile == '.DS_Store':\n",
    "            continue\n",
    "\n",
    "        # extract id and true class (if available) from filename\n",
    "        id_str, clazz = datafile.split('.')[:2]\n",
    "        ids.append(id_str)\n",
    "        # add target class if this is training data\n",
    "        try:\n",
    "            classes.append(util.malware_classes.index(clazz))\n",
    "\n",
    "        except ValueError:\n",
    "            # we should only fail to find the label in our list of malware classes\n",
    "            # if this is test data, which always has an \"X\" label\n",
    "            assert clazz == \"X\"\n",
    "            classes.append(-1)\n",
    "\n",
    "        # parse file as an xml document\n",
    "        tree = ET.parse(os.path.join(direc,datafile))\n",
    "      #  doc_string = call_feats(tree)\n",
    "      #  if X is None:\n",
    "      #      X = [doc_string] \n",
    "       # else:\n",
    "       #     X.append(doc_string)\n",
    "\n",
    "    return np.array(classes), ids\n",
    "\n",
    "def call_feats(tree):\n",
    "    doc_string = ''\n",
    "    doc_string = ''\n",
    "    for processes in tree.iter():\n",
    "        for process in processes:\n",
    "            for thread in process:\n",
    "                for section in thread:\n",
    "                    doc_string += section.tag\n",
    "                    doc_string += ' '\n",
    "                    if section.tag == 'dump_line':\n",
    "                        for cmd in section:\n",
    "                            for details in cmd.items():\n",
    "                                if details[0] == 'ascii':\n",
    "                                    doc_string += details[1]\n",
    "                        doc_string += ' '\n",
    "                    else:\n",
    "                        for cmd in section:                       \n",
    "                            for details in cmd.items():\n",
    "                                if details[0] != 'filename_hash': \n",
    "                                    if details[1].find('&#x') != -1:\n",
    "                                        doc_string += details[1][ind:ind+5]\n",
    "                                        doc_string += ' '\n",
    "                                    \n",
    "                                    doc_string += '{}_{}_{}'.format(cmd.tag, details[0], details[1])\n",
    "                                    doc_string += ' '\n",
    "    return(doc_string)"
   ]
  },
  {
   "cell_type": "code",
   "execution_count": null,
   "metadata": {
    "collapsed": false
   },
   "outputs": [],
   "source": [
    "X, Y, filenames = create_data_matrix()\n",
    "X_HOLDOUT, Y_HOLDOUT, filenames_HOLDOUT = create_data_matrix(\"test\")\n",
    "\n",
    "X_HOLDOUT_FLAT = []\n",
    "for doc in X_HOLDOUT:\n",
    "    doc_list = doc.split()\n",
    "    for word in doc_list:\n",
    "        X_HOLDOUT_FLAT.append(word)\n",
    "\n",
    "X_HOLDOUT_FLAT = set(X_HOLDOUT_FLAT)\n",
    "\n",
    "X_FLAT = []\n",
    "for doc in X:\n",
    "    doc_list = doc.split()\n",
    "    for word in doc_list:\n",
    "        X_FLAT.append(word)\n",
    "X_FLAT = set(X_FLAT)\n",
    "\n",
    "Dict = X_FLAT.intersection(X_HOLDOUT_FLAT)\n",
    "\n",
    "X_HOLDOUT_Stripped = []\n",
    "for doc in X_HOLDOUT:\n",
    "    bag = ''\n",
    "    doc_list = doc.split()\n",
    "    for word in doc_list:\n",
    "        if word in Dict:\n",
    "            bag += word\n",
    "            bag += ' '\n",
    "    X_HOLDOUT_Stripped.append(bag)\n",
    "\n",
    "X_Stripped = []\n",
    "for doc in X:\n",
    "    bag = ''\n",
    "    doc_list = doc.split()\n",
    "    for word in doc_list:\n",
    "        if word in Dict:\n",
    "            bag += word\n",
    "            bag += ' '\n",
    "    X_Stripped.append(bag)\n",
    "\n",
    "X_Stripped.extend(X_HOLDOUT_Stripped)\n"
   ]
  },
  {
   "cell_type": "code",
   "execution_count": 16,
   "metadata": {
    "collapsed": true
   },
   "outputs": [],
   "source": [
    "Y, filenames = create_data_matrix()"
   ]
  },
  {
   "cell_type": "code",
   "execution_count": null,
   "metadata": {
    "collapsed": false
   },
   "outputs": [],
   "source": [
    "import pandas as pd\n",
    "pd.DataFrame(filenames_HOLDOUT).to_csv('IDs.csv')"
   ]
  },
  {
   "cell_type": "code",
   "execution_count": null,
   "metadata": {
    "collapsed": false
   },
   "outputs": [],
   "source": [
    "pd.DataFrame(filenames_HOLDOUT).to_csv('IDs.csv')"
   ]
  },
  {
   "cell_type": "code",
   "execution_count": null,
   "metadata": {
    "collapsed": false
   },
   "outputs": [],
   "source": [
    "vectorizer = TfidfVectorizer()\n",
    "X_tfidf = vectorizer.fit_transform(X_Stripped)"
   ]
  },
  {
   "cell_type": "code",
   "execution_count": 18,
   "metadata": {
    "collapsed": false
   },
   "outputs": [],
   "source": [
    "msk = np.random.rand(X_Train.shape[0]) < 0.7\n",
    "#vectorizer = TfidfVectorizer(norm='l2')\n",
    "#X_tfidf = vectorizer.fit_transform(X_Stripped)\n",
    "#X_Train = X_tfidf[0:3086]\n",
    "\n",
    "train = X_Train[msk]\n",
    "test = X_Train[~msk]\n",
    "Y1 = Y[msk]\n",
    "Y2 = Y[~msk]\n",
    "\n",
    "#X_HOLDOUT = X_tfidf[3086:]"
   ]
  },
  {
   "cell_type": "code",
   "execution_count": 21,
   "metadata": {
    "collapsed": false
   },
   "outputs": [
    {
     "data": {
      "text/plain": [
       "(3086, 89623)"
      ]
     },
     "execution_count": 21,
     "metadata": {},
     "output_type": "execute_result"
    }
   ],
   "source": [
    "X_Train.shape"
   ]
  },
  {
   "cell_type": "code",
   "execution_count": null,
   "metadata": {
    "collapsed": false
   },
   "outputs": [],
   "source": [
    "pd.DataFrame(Y).to_csv('Y_Train.csv', index=False)"
   ]
  },
  {
   "cell_type": "code",
   "execution_count": 13,
   "metadata": {
    "collapsed": false
   },
   "outputs": [],
   "source": [
    "import pickle\n",
    "#pickle.dump( X_Train, open( \"SparseTrain.p\", \"wb\" ) )\n",
    "#pickle.dump( X_HOLDOUT, open( \"SparseTest.p\", \"wb\" ) )\n",
    "#pickle.dump( bst, open( \"bst.p\", \"wb\" ) )\n",
    "#bst = pickle.load(open(\"bst.p\", \"rb\" ) )\n",
    "X_Train = pickle.load(open(\"SparseTrain.p\", \"rb\" ) )\n",
    "X_HOLDOUT = pickle.load(open(\"SparseTest.p\", \"rb\" ) )\n",
    " "
   ]
  },
  {
   "cell_type": "code",
   "execution_count": 7,
   "metadata": {
    "collapsed": false
   },
   "outputs": [
    {
     "data": {
      "text/plain": [
       "<xgboost.core.Booster at 0xe7679b1908>"
      ]
     },
     "execution_count": 7,
     "metadata": {},
     "output_type": "execute_result"
    }
   ],
   "source": [
    "bst"
   ]
  },
  {
   "cell_type": "code",
   "execution_count": 22,
   "metadata": {
    "collapsed": false
   },
   "outputs": [
    {
     "name": "stderr",
     "output_type": "stream",
     "text": [
      "[0]\teval-merror:0.110756\ttrain-merror:0.074523\n",
      "[1]\teval-merror:0.113951\ttrain-merror:0.067070\n",
      "[2]\teval-merror:0.106496\ttrain-merror:0.061947\n",
      "[3]\teval-merror:0.104366\ttrain-merror:0.060550\n",
      "[4]\teval-merror:0.102236\ttrain-merror:0.054495\n",
      "[5]\teval-merror:0.100106\ttrain-merror:0.052632\n",
      "[6]\teval-merror:0.100106\ttrain-merror:0.051234\n",
      "[7]\teval-merror:0.100106\ttrain-merror:0.045645\n",
      "[8]\teval-merror:0.100106\ttrain-merror:0.044248\n",
      "[9]\teval-merror:0.100106\ttrain-merror:0.044248\n",
      "[10]\teval-merror:0.100106\ttrain-merror:0.042850\n",
      "[11]\teval-merror:0.100106\ttrain-merror:0.040522\n",
      "[12]\teval-merror:0.101171\ttrain-merror:0.040987\n",
      "[13]\teval-merror:0.101171\ttrain-merror:0.039590\n",
      "[14]\teval-merror:0.101171\ttrain-merror:0.039124\n",
      "[15]\teval-merror:0.101171\ttrain-merror:0.038193\n",
      "[16]\teval-merror:0.101171\ttrain-merror:0.038193\n",
      "[17]\teval-merror:0.101171\ttrain-merror:0.038193\n",
      "[18]\teval-merror:0.102236\ttrain-merror:0.037727\n",
      "[19]\teval-merror:0.103301\ttrain-merror:0.037261\n",
      "[20]\teval-merror:0.103301\ttrain-merror:0.036330\n",
      "[21]\teval-merror:0.102236\ttrain-merror:0.035864\n",
      "[22]\teval-merror:0.101171\ttrain-merror:0.034467\n",
      "[23]\teval-merror:0.101171\ttrain-merror:0.033069\n",
      "[24]\teval-merror:0.101171\ttrain-merror:0.033069\n",
      "[25]\teval-merror:0.101171\ttrain-merror:0.032604\n",
      "[26]\teval-merror:0.102236\ttrain-merror:0.031672\n",
      "[27]\teval-merror:0.102236\ttrain-merror:0.031206\n",
      "[28]\teval-merror:0.102236\ttrain-merror:0.030741\n",
      "[29]\teval-merror:0.100106\ttrain-merror:0.029343\n",
      "[30]\teval-merror:0.101171\ttrain-merror:0.027946\n",
      "[31]\teval-merror:0.101171\ttrain-merror:0.026083\n",
      "[32]\teval-merror:0.101171\ttrain-merror:0.026549\n",
      "[33]\teval-merror:0.100106\ttrain-merror:0.024220\n",
      "[34]\teval-merror:0.101171\ttrain-merror:0.024220\n",
      "[35]\teval-merror:0.100106\ttrain-merror:0.022823\n",
      "[36]\teval-merror:0.101171\ttrain-merror:0.022357\n",
      "[37]\teval-merror:0.101171\ttrain-merror:0.022357\n",
      "[38]\teval-merror:0.100106\ttrain-merror:0.022357\n",
      "[39]\teval-merror:0.101171\ttrain-merror:0.021891\n",
      "[40]\teval-merror:0.101171\ttrain-merror:0.020959\n",
      "[41]\teval-merror:0.101171\ttrain-merror:0.020494\n",
      "[42]\teval-merror:0.101171\ttrain-merror:0.020494\n",
      "[43]\teval-merror:0.101171\ttrain-merror:0.020494\n",
      "[44]\teval-merror:0.100106\ttrain-merror:0.020494\n",
      "[45]\teval-merror:0.100106\ttrain-merror:0.020028\n",
      "[46]\teval-merror:0.100106\ttrain-merror:0.019562\n",
      "[47]\teval-merror:0.100106\ttrain-merror:0.019562\n",
      "[48]\teval-merror:0.100106\ttrain-merror:0.018631\n",
      "[49]\teval-merror:0.100106\ttrain-merror:0.018165\n",
      "[50]\teval-merror:0.100106\ttrain-merror:0.018165\n",
      "[51]\teval-merror:0.100106\ttrain-merror:0.017699\n",
      "[52]\teval-merror:0.100106\ttrain-merror:0.017233\n",
      "[53]\teval-merror:0.099042\ttrain-merror:0.016768\n",
      "[54]\teval-merror:0.099042\ttrain-merror:0.016302\n",
      "[55]\teval-merror:0.099042\ttrain-merror:0.015836\n",
      "[56]\teval-merror:0.096912\ttrain-merror:0.015370\n",
      "[57]\teval-merror:0.096912\ttrain-merror:0.014905\n",
      "[58]\teval-merror:0.096912\ttrain-merror:0.014439\n",
      "[59]\teval-merror:0.096912\ttrain-merror:0.013507\n",
      "[60]\teval-merror:0.097977\ttrain-merror:0.013507\n",
      "[61]\teval-merror:0.097977\ttrain-merror:0.013507\n",
      "[62]\teval-merror:0.096912\ttrain-merror:0.012576\n",
      "[63]\teval-merror:0.096912\ttrain-merror:0.012110\n",
      "[64]\teval-merror:0.096912\ttrain-merror:0.012110\n",
      "[65]\teval-merror:0.096912\ttrain-merror:0.011644\n",
      "[66]\teval-merror:0.097977\ttrain-merror:0.011178\n",
      "[67]\teval-merror:0.097977\ttrain-merror:0.011178\n",
      "[68]\teval-merror:0.097977\ttrain-merror:0.011178\n",
      "[69]\teval-merror:0.097977\ttrain-merror:0.011178\n",
      "[70]\teval-merror:0.097977\ttrain-merror:0.011178\n",
      "[71]\teval-merror:0.099042\ttrain-merror:0.010713\n",
      "[72]\teval-merror:0.100106\ttrain-merror:0.010713\n",
      "[73]\teval-merror:0.100106\ttrain-merror:0.010713\n",
      "[74]\teval-merror:0.097977\ttrain-merror:0.010713\n",
      "[75]\teval-merror:0.100106\ttrain-merror:0.009315\n",
      "[76]\teval-merror:0.101171\ttrain-merror:0.008850\n",
      "[77]\teval-merror:0.101171\ttrain-merror:0.008850\n",
      "[78]\teval-merror:0.100106\ttrain-merror:0.007918\n",
      "[79]\teval-merror:0.100106\ttrain-merror:0.007918\n",
      "[80]\teval-merror:0.100106\ttrain-merror:0.007918\n",
      "[81]\teval-merror:0.100106\ttrain-merror:0.007452\n",
      "[82]\teval-merror:0.100106\ttrain-merror:0.007452\n",
      "[83]\teval-merror:0.100106\ttrain-merror:0.006986\n",
      "[84]\teval-merror:0.100106\ttrain-merror:0.006986\n",
      "[85]\teval-merror:0.100106\ttrain-merror:0.006986\n",
      "[86]\teval-merror:0.100106\ttrain-merror:0.006986\n",
      "[87]\teval-merror:0.099042\ttrain-merror:0.006986\n",
      "[88]\teval-merror:0.099042\ttrain-merror:0.006986\n",
      "[89]\teval-merror:0.099042\ttrain-merror:0.006986\n",
      "[90]\teval-merror:0.099042\ttrain-merror:0.006986\n",
      "[91]\teval-merror:0.099042\ttrain-merror:0.006521\n",
      "[92]\teval-merror:0.099042\ttrain-merror:0.006521\n",
      "[93]\teval-merror:0.099042\ttrain-merror:0.006521\n",
      "[94]\teval-merror:0.099042\ttrain-merror:0.006055\n",
      "[95]\teval-merror:0.099042\ttrain-merror:0.006055\n",
      "[96]\teval-merror:0.097977\ttrain-merror:0.006055\n",
      "[97]\teval-merror:0.097977\ttrain-merror:0.005589\n",
      "[98]\teval-merror:0.097977\ttrain-merror:0.005589\n",
      "[99]\teval-merror:0.097977\ttrain-merror:0.005589\n",
      "[100]\teval-merror:0.095847\ttrain-merror:0.005123\n",
      "[101]\teval-merror:0.097977\ttrain-merror:0.005123\n",
      "[102]\teval-merror:0.097977\ttrain-merror:0.005123\n",
      "[103]\teval-merror:0.096912\ttrain-merror:0.005123\n",
      "[104]\teval-merror:0.097977\ttrain-merror:0.005123\n",
      "[105]\teval-merror:0.099042\ttrain-merror:0.005123\n",
      "[106]\teval-merror:0.097977\ttrain-merror:0.005123\n",
      "[107]\teval-merror:0.097977\ttrain-merror:0.004192\n",
      "[108]\teval-merror:0.097977\ttrain-merror:0.004192\n",
      "[109]\teval-merror:0.097977\ttrain-merror:0.004192\n",
      "[110]\teval-merror:0.097977\ttrain-merror:0.004192\n",
      "[111]\teval-merror:0.099042\ttrain-merror:0.003726\n",
      "[112]\teval-merror:0.097977\ttrain-merror:0.003726\n",
      "[113]\teval-merror:0.097977\ttrain-merror:0.003726\n",
      "[114]\teval-merror:0.097977\ttrain-merror:0.003726\n",
      "[115]\teval-merror:0.097977\ttrain-merror:0.003260\n",
      "[116]\teval-merror:0.097977\ttrain-merror:0.003260\n",
      "[117]\teval-merror:0.097977\ttrain-merror:0.003260\n",
      "[118]\teval-merror:0.097977\ttrain-merror:0.003260\n",
      "[119]\teval-merror:0.097977\ttrain-merror:0.003260\n",
      "[120]\teval-merror:0.097977\ttrain-merror:0.003260\n",
      "[121]\teval-merror:0.097977\ttrain-merror:0.003260\n",
      "[122]\teval-merror:0.097977\ttrain-merror:0.003260\n",
      "[123]\teval-merror:0.097977\ttrain-merror:0.003260\n",
      "[124]\teval-merror:0.100106\ttrain-merror:0.003260\n",
      "[125]\teval-merror:0.100106\ttrain-merror:0.003260\n",
      "[126]\teval-merror:0.100106\ttrain-merror:0.003260\n",
      "[127]\teval-merror:0.100106\ttrain-merror:0.003260\n",
      "[128]\teval-merror:0.100106\ttrain-merror:0.003260\n",
      "[129]\teval-merror:0.100106\ttrain-merror:0.003260\n",
      "[130]\teval-merror:0.100106\ttrain-merror:0.003260\n",
      "[131]\teval-merror:0.100106\ttrain-merror:0.003260\n",
      "[132]\teval-merror:0.100106\ttrain-merror:0.002795\n",
      "[133]\teval-merror:0.102236\ttrain-merror:0.001863\n",
      "[134]\teval-merror:0.102236\ttrain-merror:0.001863\n",
      "[135]\teval-merror:0.102236\ttrain-merror:0.001863\n",
      "[136]\teval-merror:0.102236\ttrain-merror:0.001863\n",
      "[137]\teval-merror:0.101171\ttrain-merror:0.001397\n",
      "[138]\teval-merror:0.101171\ttrain-merror:0.001397\n",
      "[139]\teval-merror:0.101171\ttrain-merror:0.001397\n",
      "[140]\teval-merror:0.101171\ttrain-merror:0.001397\n",
      "[141]\teval-merror:0.102236\ttrain-merror:0.001397\n",
      "[142]\teval-merror:0.102236\ttrain-merror:0.001397\n",
      "[143]\teval-merror:0.102236\ttrain-merror:0.001397\n",
      "[144]\teval-merror:0.101171\ttrain-merror:0.001397\n",
      "[145]\teval-merror:0.101171\ttrain-merror:0.000932\n",
      "[146]\teval-merror:0.103301\ttrain-merror:0.000932\n",
      "[147]\teval-merror:0.102236\ttrain-merror:0.000932\n",
      "[148]\teval-merror:0.101171\ttrain-merror:0.000932\n",
      "[149]\teval-merror:0.101171\ttrain-merror:0.000932\n",
      "[150]\teval-merror:0.102236\ttrain-merror:0.000932\n",
      "[151]\teval-merror:0.101171\ttrain-merror:0.000466\n",
      "[152]\teval-merror:0.101171\ttrain-merror:0.000466\n",
      "[153]\teval-merror:0.101171\ttrain-merror:0.000466\n",
      "[154]\teval-merror:0.101171\ttrain-merror:0.000466\n",
      "[155]\teval-merror:0.101171\ttrain-merror:0.000466\n",
      "[156]\teval-merror:0.102236\ttrain-merror:0.000466\n",
      "[157]\teval-merror:0.102236\ttrain-merror:0.000466\n",
      "[158]\teval-merror:0.102236\ttrain-merror:0.000466\n",
      "[159]\teval-merror:0.103301\ttrain-merror:0.000466\n",
      "[160]\teval-merror:0.103301\ttrain-merror:0.000466\n",
      "[161]\teval-merror:0.103301\ttrain-merror:0.000466\n",
      "[162]\teval-merror:0.103301\ttrain-merror:0.000466\n",
      "[163]\teval-merror:0.103301\ttrain-merror:0.000466\n",
      "[164]\teval-merror:0.103301\ttrain-merror:0.000466\n",
      "[165]\teval-merror:0.103301\ttrain-merror:0.000466\n",
      "[166]\teval-merror:0.103301\ttrain-merror:0.000466\n",
      "[167]\teval-merror:0.103301\ttrain-merror:0.000466\n",
      "[168]\teval-merror:0.103301\ttrain-merror:0.000466\n",
      "[169]\teval-merror:0.103301\ttrain-merror:0.000466\n",
      "[170]\teval-merror:0.103301\ttrain-merror:0.000000\n",
      "[171]\teval-merror:0.103301\ttrain-merror:0.000000\n",
      "[172]\teval-merror:0.103301\ttrain-merror:0.000000\n",
      "[173]\teval-merror:0.103301\ttrain-merror:0.000000\n",
      "[174]\teval-merror:0.103301\ttrain-merror:0.000000\n",
      "[175]\teval-merror:0.103301\ttrain-merror:0.000000\n",
      "[176]\teval-merror:0.103301\ttrain-merror:0.000000\n",
      "[177]\teval-merror:0.103301\ttrain-merror:0.000000\n",
      "[178]\teval-merror:0.103301\ttrain-merror:0.000000\n",
      "[179]\teval-merror:0.103301\ttrain-merror:0.000000\n",
      "[180]\teval-merror:0.103301\ttrain-merror:0.000000\n",
      "[181]\teval-merror:0.102236\ttrain-merror:0.000000\n",
      "[182]\teval-merror:0.102236\ttrain-merror:0.000000\n",
      "[183]\teval-merror:0.102236\ttrain-merror:0.000000\n",
      "[184]\teval-merror:0.102236\ttrain-merror:0.000000\n",
      "[185]\teval-merror:0.102236\ttrain-merror:0.000000\n",
      "[186]\teval-merror:0.102236\ttrain-merror:0.000000\n",
      "[187]\teval-merror:0.102236\ttrain-merror:0.000000\n",
      "[188]\teval-merror:0.102236\ttrain-merror:0.000000\n",
      "[189]\teval-merror:0.102236\ttrain-merror:0.000000\n",
      "[190]\teval-merror:0.103301\ttrain-merror:0.000000\n",
      "[191]\teval-merror:0.103301\ttrain-merror:0.000000\n",
      "[192]\teval-merror:0.103301\ttrain-merror:0.000000\n",
      "[193]\teval-merror:0.103301\ttrain-merror:0.000000\n",
      "[194]\teval-merror:0.103301\ttrain-merror:0.000000\n",
      "[195]\teval-merror:0.103301\ttrain-merror:0.000000\n",
      "[196]\teval-merror:0.103301\ttrain-merror:0.000000\n",
      "[197]\teval-merror:0.104366\ttrain-merror:0.000000\n",
      "[198]\teval-merror:0.104366\ttrain-merror:0.000000\n",
      "[199]\teval-merror:0.104366\ttrain-merror:0.000000\n"
     ]
    }
   ],
   "source": [
    "#XGBOOST\n",
    "# convert sparse matrix to DMatrix (data object required for xgBoost)\n",
    "import xgboost as xgb\n",
    "#d_train = xgb.DMatrix(X_Train, label = Y)\n",
    "d_train = xgb.DMatrix(train, label = Y1)\n",
    "d_test = xgb.DMatrix(test, label = Y2)\n",
    "\n",
    "# Set parameters \n",
    "Conserativeparam = {'objective':'multi:softmax', 'booster':\"gbtree\", 'eta':.05, 'silent':1,'num_class':15\n",
    "                    , 'subsample':.5, 'max_depth': 4, 'colsample_bytree':.5, 'colsample_bylevel':.5\n",
    "                    ,'min_child_weight':1, 'max_delta_step':1, 'gamma':1}\n",
    "\n",
    "#Defaultparam = {'objective':'multi:softmax', 'booster':\"gbtree\", 'eta':.05, 'silent':1,'num_class':15}\n",
    "\n",
    "# Establish watchlist to see model error against test set over boosting rounds\n",
    "# It's an optional parameter in xgb.train() #\n",
    "\n",
    "evallist  = [(d_test,'eval'), (d_train,'train')]\n",
    "\n",
    "# Set number of rounds\n",
    "num_round = 200\n",
    "\n",
    "# train model\n",
    "#bst = xgb.train( Conserativeparam, d_train, num_round, evallist)\n",
    "bst = xgb.train( Defaultparam, d_train, num_round, evallist)\n",
    "# predict on set\n",
    "\n",
    "Y2_Pred = bst.predict(d_test)"
   ]
  },
  {
   "cell_type": "code",
   "execution_count": null,
   "metadata": {
    "collapsed": false,
    "scrolled": true
   },
   "outputs": [],
   "source": [
    "from sklearn.metrics import classification_report\n",
    "Y2_Pred = bst.predict(d_test)\n",
    "target_names = ['Agent', 'AutoRun', 'FraudLoad', 'FraudPack', 'Hupigon'\n",
    "                , 'Krap', 'Lipler', 'Magania', 'None', 'Poison', 'Swizzor'\n",
    "                , 'Tdss', 'VB', 'Virut', 'Zbot']\n",
    "print(classification_report(Y2, Y2_Pred, target_names=target_names).ipynb_checkpoints/"
   ]
  },
  {
   "cell_type": "code",
   "execution_count": 12,
   "metadata": {
    "collapsed": false
   },
   "outputs": [
    {
     "ename": "ImportError",
     "evalue": "You must install graphviz to plot tree",
     "output_type": "error",
     "traceback": [
      "\u001b[1;31m---------------------------------------------------------------------------\u001b[0m",
      "\u001b[1;31mImportError\u001b[0m                               Traceback (most recent call last)",
      "\u001b[1;32mC:\\Anaconda3\\lib\\site-packages\\xgboost-0.4-py3.5.egg\\xgboost\\plotting.py\u001b[0m in \u001b[0;36mto_graphviz\u001b[1;34m(booster, num_trees, rankdir, yes_color, no_color, **kwargs)\u001b[0m\n\u001b[0;32m    174\u001b[0m     \u001b[1;32mtry\u001b[0m\u001b[1;33m:\u001b[0m\u001b[1;33m\u001b[0m\u001b[0m\n\u001b[1;32m--> 175\u001b[1;33m         \u001b[1;32mfrom\u001b[0m \u001b[0mgraphviz\u001b[0m \u001b[1;32mimport\u001b[0m \u001b[0mDigraph\u001b[0m\u001b[1;33m\u001b[0m\u001b[0m\n\u001b[0m\u001b[0;32m    176\u001b[0m     \u001b[1;32mexcept\u001b[0m \u001b[0mImportError\u001b[0m\u001b[1;33m:\u001b[0m\u001b[1;33m\u001b[0m\u001b[0m\n",
      "\u001b[1;31mImportError\u001b[0m: No module named 'graphviz'",
      "\nDuring handling of the above exception, another exception occurred:\n",
      "\u001b[1;31mImportError\u001b[0m                               Traceback (most recent call last)",
      "\u001b[1;32m<ipython-input-12-ba91ecdf857f>\u001b[0m in \u001b[0;36m<module>\u001b[1;34m()\u001b[0m\n\u001b[0;32m      2\u001b[0m \u001b[1;31m#import matplotlib\u001b[0m\u001b[1;33m\u001b[0m\u001b[1;33m\u001b[0m\u001b[0m\n\u001b[0;32m      3\u001b[0m \u001b[1;31m#xgb.plot_tree(bst, num_trees= 2)\u001b[0m\u001b[1;33m\u001b[0m\u001b[1;33m\u001b[0m\u001b[0m\n\u001b[1;32m----> 4\u001b[1;33m \u001b[0mxgb\u001b[0m\u001b[1;33m.\u001b[0m\u001b[0mto_graphviz\u001b[0m\u001b[1;33m(\u001b[0m\u001b[0mbst\u001b[0m\u001b[1;33m,\u001b[0m \u001b[0mnum_trees\u001b[0m\u001b[1;33m=\u001b[0m\u001b[1;36m2\u001b[0m\u001b[1;33m)\u001b[0m\u001b[1;33m\u001b[0m\u001b[0m\n\u001b[0m",
      "\u001b[1;32mC:\\Anaconda3\\lib\\site-packages\\xgboost-0.4-py3.5.egg\\xgboost\\plotting.py\u001b[0m in \u001b[0;36mto_graphviz\u001b[1;34m(booster, num_trees, rankdir, yes_color, no_color, **kwargs)\u001b[0m\n\u001b[0;32m    175\u001b[0m         \u001b[1;32mfrom\u001b[0m \u001b[0mgraphviz\u001b[0m \u001b[1;32mimport\u001b[0m \u001b[0mDigraph\u001b[0m\u001b[1;33m\u001b[0m\u001b[0m\n\u001b[0;32m    176\u001b[0m     \u001b[1;32mexcept\u001b[0m \u001b[0mImportError\u001b[0m\u001b[1;33m:\u001b[0m\u001b[1;33m\u001b[0m\u001b[0m\n\u001b[1;32m--> 177\u001b[1;33m         \u001b[1;32mraise\u001b[0m \u001b[0mImportError\u001b[0m\u001b[1;33m(\u001b[0m\u001b[1;34m'You must install graphviz to plot tree'\u001b[0m\u001b[1;33m)\u001b[0m\u001b[1;33m\u001b[0m\u001b[0m\n\u001b[0m\u001b[0;32m    178\u001b[0m \u001b[1;33m\u001b[0m\u001b[0m\n\u001b[0;32m    179\u001b[0m     \u001b[1;32mif\u001b[0m \u001b[1;32mnot\u001b[0m \u001b[0misinstance\u001b[0m\u001b[1;33m(\u001b[0m\u001b[0mbooster\u001b[0m\u001b[1;33m,\u001b[0m \u001b[1;33m(\u001b[0m\u001b[0mBooster\u001b[0m\u001b[1;33m,\u001b[0m \u001b[0mXGBModel\u001b[0m\u001b[1;33m)\u001b[0m\u001b[1;33m)\u001b[0m\u001b[1;33m:\u001b[0m\u001b[1;33m\u001b[0m\u001b[0m\n",
      "\u001b[1;31mImportError\u001b[0m: You must install graphviz to plot tree"
     ]
    }
   ],
   "source": [
    "#import xgboost as xgb\n",
    "#import matplotlib\n",
    "#xgb.plot_tree(bst, num_trees= 2)\n",
    "xgb.to_graphviz(bst, num_trees=2)"
   ]
  },
  {
   "cell_type": "code",
   "execution_count": null,
   "metadata": {
    "collapsed": false
   },
   "outputs": [],
   "source": [
    "Preds = list(zip(Y2,Y2_Pred))\n",
    "sum = 0\n",
    "for pred in Preds:\n",
    "    if pred[0]==pred[1]:\n",
    "        sum+=1\n",
    "print(sum/len(Preds))"
   ]
  },
  {
   "cell_type": "code",
   "execution_count": null,
   "metadata": {
    "collapsed": false
   },
   "outputs": [],
   "source": [
    "#Kaggle Submission\n",
    "d_holdout = xgb.DMatrix(X_HOLDOUT)\n",
    "Y_Pred_HOLDOUT = bst.predict(d_holdout)\n",
    "results = list(zip(filenames_HOLDOUT, Y_Pred_HOLDOUT))"
   ]
  },
  {
   "cell_type": "code",
   "execution_count": null,
   "metadata": {
    "collapsed": false
   },
   "outputs": [],
   "source": [
    "import pandas as pd\n",
    "Output=pd.DataFrame(results)\n",
    "Output.to_csv('KaggleSubmission_new5.csv', index=False)"
   ]
  }
 ],
 "metadata": {
  "kernelspec": {
   "display_name": "Python 3",
   "language": "python",
   "name": "python3"
  },
  "language_info": {
   "codemirror_mode": {
    "name": "ipython",
    "version": 3
   },
   "file_extension": ".py",
   "mimetype": "text/x-python",
   "name": "python",
   "nbconvert_exporter": "python",
   "pygments_lexer": "ipython3",
   "version": "3.5.1"
  }
 },
 "nbformat": 4,
 "nbformat_minor": 0
}
